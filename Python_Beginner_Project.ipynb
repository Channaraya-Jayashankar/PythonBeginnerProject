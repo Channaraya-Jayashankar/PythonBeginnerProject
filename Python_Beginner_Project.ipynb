{
  "nbformat": 4,
  "nbformat_minor": 0,
  "metadata": {
    "colab": {
      "provenance": [],
      "authorship_tag": "ABX9TyNNiOPgZyD3V30ggP6jYZI4",
      "include_colab_link": true
    },
    "kernelspec": {
      "name": "python3",
      "display_name": "Python 3"
    },
    "language_info": {
      "name": "python"
    }
  },
  "cells": [
    {
      "cell_type": "markdown",
      "metadata": {
        "id": "view-in-github",
        "colab_type": "text"
      },
      "source": [
        "<a href=\"https://colab.research.google.com/github/Channaraya-Jayashankar/PythonBeginnerProject/blob/main/Python_Beginner_Project.ipynb\" target=\"_parent\"><img src=\"https://colab.research.google.com/assets/colab-badge.svg\" alt=\"Open In Colab\"/></a>"
      ]
    },
    {
      "cell_type": "code",
      "execution_count": 7,
      "metadata": {
        "colab": {
          "base_uri": "https://localhost:8080/"
        },
        "id": "arHW5O9gcX2v",
        "outputId": "8b567196-3ad7-4f61-b6fe-d25dc6b18897"
      },
      "outputs": [
        {
          "output_type": "stream",
          "name": "stdout",
          "text": [
            "Enter your name: Channaraya\n",
            "Enter your weight in pounds: 159\n",
            "Enter your height in inches: 71\n",
            "Your BMI is: 22.17\n",
            "Channaraya, you have a normal weight.\n"
          ]
        }
      ],
      "source": [
        "# Get the user's name\n",
        "name = input(\"Enter your name: \")\n",
        "\n",
        "# Get the user's weight in pounds and convert to integer\n",
        "weight = int(input(\"Enter your weight in pounds: \"))\n",
        "\n",
        "# Get the user's height in inches and convert to integer\n",
        "height = int(input(\"Enter your height in inches: \"))\n",
        "\n",
        "# Calculate BMI using the formula\n",
        "BMI = (weight * 703) / (height ** 2)\n",
        "\n",
        "# Display the calculated BMI\n",
        "print(f\"Your BMI is: {BMI:.2f}\")\n",
        "\n",
        "# Check BMI category and print appropriate message\n",
        "if BMI > 0:\n",
        "    if BMI < 18.5:\n",
        "        print(f\"{name}, you are underweight.\")\n",
        "    elif BMI <= 24.9:\n",
        "        print(f\"{name}, you have a normal weight.\")\n",
        "    elif BMI <= 29.9:\n",
        "        print(f\"{name}, you are overweight. Regular exercise is recommended.\")\n",
        "    elif BMI <= 34.9:\n",
        "        print(f\"{name}, you are obese.\")\n",
        "    elif BMI <= 39.9:\n",
        "        print(f\"{name}, you are severely obese.\")\n",
        "    else:\n",
        "        print(f\"{name}, you are morbidly obese.\")\n",
        "else:\n",
        "    print(\"Please enter valid input.\")\n"
      ]
    },
    {
      "cell_type": "markdown",
      "source": [
        "#BMI = (Weight in pounds x 703) / (Height in inches x Height in inches)"
      ],
      "metadata": {
        "id": "iCVj_sXNO5-d"
      }
    },
    {
      "cell_type": "code",
      "source": [
        "# Print the user's weight\n",
        "print(weight)"
      ],
      "metadata": {
        "colab": {
          "base_uri": "https://localhost:8080/"
        },
        "id": "DQfF-gymNt77",
        "outputId": "ed6f3982-2fea-4d19-8c1b-4d4a128bf308"
      },
      "execution_count": 10,
      "outputs": [
        {
          "output_type": "stream",
          "name": "stdout",
          "text": [
            "159\n"
          ]
        }
      ]
    },
    {
      "cell_type": "markdown",
      "source": [
        "**Conditions :**<br>\n",
        "Under 18.5kg\t= Underweight\tMinimal<br>\n",
        "18.5 - 24.9\t= Normal Weight\tMinimal<br>\n",
        "25 - 29.9\t= Overweight\tIncreased<br>\n",
        "30 - 34.9\t= Obese\tHigh<br>\n",
        "35 - 39.9\t= Severely Obese\tVery High<br>\n",
        "40 and over\tMorbidly Obese\tExtremely High"
      ],
      "metadata": {
        "id": "C7KywepLOYCS"
      }
    },
    {
      "cell_type": "code",
      "source": [
        "if BMI>0:\n",
        "    if(BMI<18.5):\n",
        "        print(name +\", you are underwight.\")\n",
        "    elif (BMI<=24.9):\n",
        "        print(name +\", you are normal weight.\")\n",
        "    elif (BMI<29.9):\n",
        "        print(name +\", you are overweight.\")\n",
        "    elif (BMI<34.9):\n",
        "        print(name +\", you are obese.\")\n",
        "    elif (BMI<39.9):\n",
        "        print(name +\", you are severely obese.\")\n",
        "    else:\n",
        "        print(name +\", you are morbidly obese.\")\n",
        "else:\n",
        "    print(\"Enter valid input\")"
      ],
      "metadata": {
        "colab": {
          "base_uri": "https://localhost:8080/"
        },
        "id": "Jyu-J7aMNwbi",
        "outputId": "92eae998-f8e4-4776-e64c-836753689717"
      },
      "execution_count": 6,
      "outputs": [
        {
          "output_type": "stream",
          "name": "stdout",
          "text": [
            "Channaraya, you are normal weight.\n"
          ]
        }
      ]
    },
    {
      "cell_type": "code",
      "source": [
        "# Check if the calculated BMI is valid\n",
        "if BMI > 0:\n",
        "    # Determine the BMI category and display the corresponding message\n",
        "    if BMI < 18.5:\n",
        "        print(f\"{name}, you are underweight.\")\n",
        "    elif BMI <= 24.9:\n",
        "        print(f\"{name}, you have a normal weight.\")\n",
        "    elif BMI <= 29.9:\n",
        "        print(f\"{name}, you are overweight.\")\n",
        "    elif BMI <= 34.9:\n",
        "        print(f\"{name}, you are obese.\")\n",
        "    elif BMI <= 39.9:\n",
        "        print(f\"{name}, you are severely obese.\")\n",
        "    else:\n",
        "        print(f\"{name}, you are morbidly obese.\")\n",
        "else:\n",
        "    # Display error if invalid inputs were provided\n",
        "    print(\"Please enter valid input.\")\n"
      ],
      "metadata": {
        "colab": {
          "base_uri": "https://localhost:8080/"
        },
        "id": "T-Y2EouNNzsu",
        "outputId": "ff5f43dd-6d13-486a-b65a-296f466b7eb6"
      },
      "execution_count": 11,
      "outputs": [
        {
          "output_type": "stream",
          "name": "stdout",
          "text": [
            "Channaraya, you have a normal weight.\n"
          ]
        }
      ]
    },
    {
      "cell_type": "code",
      "source": [],
      "metadata": {
        "id": "UNct0EVGRGtC"
      },
      "execution_count": null,
      "outputs": []
    }
  ]
}